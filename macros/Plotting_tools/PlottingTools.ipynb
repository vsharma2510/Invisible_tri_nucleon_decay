{
 "cells": [
  {
   "cell_type": "code",
   "execution_count": 2,
   "id": "b686ed11-e5ec-46a2-a408-cd731b90cd1c",
   "metadata": {},
   "outputs": [],
   "source": [
    "import uproot\n",
    "import hist\n",
    "import numpy as np\n",
    "import matplotlib.pyplot as plt\n",
    "import pandas as pd\n",
    "import awkward as ak"
   ]
  },
  {
   "cell_type": "code",
   "execution_count": 3,
   "id": "d58c691c-fd17-4b10-a591-5cc14847200e",
   "metadata": {},
   "outputs": [],
   "source": [
    "file = uproot.open(\"/global/cfs/cdirs/cuore/scratch/vsharma/TeO2Sx-ra228-pb208-.01_output.root\")"
   ]
  },
  {
   "cell_type": "code",
   "execution_count": 4,
   "id": "ebd8e796-2b4c-459b-ab92-d942db25683e",
   "metadata": {},
   "outputs": [
    {
     "data": {
      "text/plain": [
       "['MCInfoTree;1', 'Global;1', 'infoTree;1', 'outTree;1']"
      ]
     },
     "execution_count": 4,
     "metadata": {},
     "output_type": "execute_result"
    }
   ],
   "source": [
    "file.keys()"
   ]
  },
  {
   "cell_type": "code",
   "execution_count": 6,
   "id": "b00a5542-5aa7-407f-bbe5-bdab7baca663",
   "metadata": {},
   "outputs": [
    {
     "name": "stdout",
     "output_type": "stream",
     "text": [
      "name                 | typename                 | interpretation                \n",
      "---------------------+--------------------------+-------------------------------\n",
      "Channel_MC           | int32_t                  | AsDtype('>i4')\n",
      "ChainNumber          | uint64_t                 | AsDtype('>u8')\n",
      "Channel              | int32_t                  | AsDtype('>i4')\n",
      "Tower                | int32_t                  | AsDtype('>i4')\n",
      "Floor                | int32_t                  | AsDtype('>i4')\n",
      "Layer                | int32_t                  | AsDtype('>i4')\n",
      "Time                 | double                   | AsDtype('>f8')\n",
      "Energy               | double                   | AsDtype('>f8')\n",
      "PartEnergy           | double[12]               | AsDtype(\"('>f8', (12,))\")\n",
      "Multiplicity         | int32_t                  | AsDtype('>i4')\n",
      "MultipletIndex       | int32_t                  | AsDtype('>i4')\n",
      "TotalEnergy          | double                   | AsDtype('>f8')\n",
      "Multiplet            | int32_t[]                | AsJagged(AsDtype('>i4'))\n",
      "MultipletEnergy      | double[]                 | AsJagged(AsDtype('>f8'))\n",
      "AllFilters           | bool                     | AsDtype('bool')\n"
     ]
    }
   ],
   "source": [
    "file['outTree'].show()"
   ]
  },
  {
   "cell_type": "code",
   "execution_count": 7,
   "id": "4e8462d2-5ae6-47f4-a04c-a5d1739794f8",
   "metadata": {},
   "outputs": [
    {
     "data": {
      "text/plain": [
       "{'Channel_MC': 'int32_t',\n",
       " 'ChainNumber': 'uint64_t',\n",
       " 'Channel': 'int32_t',\n",
       " 'Tower': 'int32_t',\n",
       " 'Floor': 'int32_t',\n",
       " 'Layer': 'int32_t',\n",
       " 'Time': 'double',\n",
       " 'Energy': 'double',\n",
       " 'PartEnergy': 'double[12]',\n",
       " 'Multiplicity': 'int32_t',\n",
       " 'MultipletIndex': 'int32_t',\n",
       " 'TotalEnergy': 'double',\n",
       " 'Multiplet': 'int32_t[]',\n",
       " 'MultipletEnergy': 'double[]',\n",
       " 'AllFilters': 'bool'}"
      ]
     },
     "execution_count": 7,
     "metadata": {},
     "output_type": "execute_result"
    }
   ],
   "source": [
    "file['outTree'].typenames()e"
   ]
  },
  {
   "cell_type": "code",
   "execution_count": 8,
   "id": "d38c0ff6-1c64-444a-9734-faf996e2ba43",
   "metadata": {},
   "outputs": [],
   "source": [
    "tree = file['outTree']"
   ]
  },
  {
   "cell_type": "code",
   "execution_count": 22,
   "id": "a121c891-a5e4-4063-8406-df4fa67f11f1",
   "metadata": {},
   "outputs": [],
   "source": [
    "energy_vs_time = tree.arrays([\"TotalEnergy\",\"Time\",\"Multiplicity\"], library=\"pd\")"
   ]
  },
  {
   "cell_type": "code",
   "execution_count": null,
   "id": "4547b746-f4ac-437f-9e29-b178c56ff19f",
   "metadata": {},
   "outputs": [],
   "source": [
    "energy_vs_time_np = tree.arrays([\"TotalEnergy\", \"Time\", \"Multiplicity\"], library='np')"
   ]
  },
  {
   "cell_type": "code",
   "execution_count": 11,
   "id": "39ed4b86-6aa4-4014-a6f1-7381b0fdcb83",
   "metadata": {},
   "outputs": [],
   "source": [
    "energy_vs_time_m2 = energy_vs_time.query('Multiplicity==2')"
   ]
  },
  {
   "cell_type": "code",
   "execution_count": null,
   "id": "c6ec673f-8e74-41a6-8e05-f268bb03bbdd",
   "metadata": {},
   "outputs": [],
   "source": [
    "energy_vs_time_m2.count()"
   ]
  },
  {
   "cell_type": "code",
   "execution_count": null,
   "id": "f9afac3c-171b-4d76-ac2d-a78894635465",
   "metadata": {},
   "outputs": [],
   "source": [
    "energy_vs_time_m2.plot(y='TotalEnergy', x='Time', kind='scatter', title='Surface - ra228-pb208-0.01')"
   ]
  },
  {
   "cell_type": "code",
   "execution_count": null,
   "id": "7a82ccf7-8601-4c59-b78d-282fa118b798",
   "metadata": {},
   "outputs": [],
   "source": []
  }
 ],
 "metadata": {
  "kernelspec": {
   "display_name": "pyR",
   "language": "python",
   "name": "pyr"
  },
  "language_info": {
   "codemirror_mode": {
    "name": "ipython",
    "version": 3
   },
   "file_extension": ".py",
   "mimetype": "text/x-python",
   "name": "python",
   "nbconvert_exporter": "python",
   "pygments_lexer": "ipython3",
   "version": "3.9.15"
  }
 },
 "nbformat": 4,
 "nbformat_minor": 5
}
